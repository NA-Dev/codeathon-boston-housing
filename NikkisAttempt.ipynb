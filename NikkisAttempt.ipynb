{
 "cells": [
  {
   "cell_type": "markdown",
   "id": "laughing-perth",
   "metadata": {},
   "source": [
    "# Boston Housing Codeathon\n",
    "Nikki Aaron"
   ]
  },
  {
   "cell_type": "code",
   "execution_count": null,
   "id": "brutal-diabetes",
   "metadata": {},
   "outputs": [],
   "source": [
    "#!pip install -q tensorflow_data_validation\n",
    "#!pip install -q -U tensorflow_transform\n",
    "#!pip install talos"
   ]
  },
  {
   "cell_type": "code",
   "execution_count": 1,
   "id": "professional-radiation",
   "metadata": {},
   "outputs": [],
   "source": [
    "import pandas as pd\n",
    "import numpy as np\n",
    "from typing import Tuple\n",
    "import os\n",
    "\n",
    "import talos as ta\n",
    "from talos.model.normalizers import lr_normalizer\n",
    "import tensorflow as tf\n",
    "from tensorflow import keras\n",
    "from tensorflow.keras.layers import Dropout, Flatten, Dense, BatchNormalization\n",
    "import tensorflow_data_validation as tfdv\n",
    "import tensorflow_transform as tft"
   ]
  },
  {
   "cell_type": "code",
   "execution_count": null,
   "id": "relative-liberal",
   "metadata": {},
   "outputs": [],
   "source": []
  },
  {
   "cell_type": "code",
   "execution_count": 2,
   "id": "prescription-constitution",
   "metadata": {},
   "outputs": [
    {
     "data": {
      "text/html": [
       "<div>\n",
       "<style scoped>\n",
       "    .dataframe tbody tr th:only-of-type {\n",
       "        vertical-align: middle;\n",
       "    }\n",
       "\n",
       "    .dataframe tbody tr th {\n",
       "        vertical-align: top;\n",
       "    }\n",
       "\n",
       "    .dataframe thead th {\n",
       "        text-align: right;\n",
       "    }\n",
       "</style>\n",
       "<table border=\"1\" class=\"dataframe\">\n",
       "  <thead>\n",
       "    <tr style=\"text-align: right;\">\n",
       "      <th></th>\n",
       "      <th>CRIM</th>\n",
       "      <th>ZN</th>\n",
       "      <th>INDUS</th>\n",
       "      <th>CHAS</th>\n",
       "      <th>NOX</th>\n",
       "      <th>RM</th>\n",
       "      <th>AGE</th>\n",
       "      <th>DIS</th>\n",
       "      <th>RAD</th>\n",
       "      <th>TAX</th>\n",
       "      <th>PTRATIO</th>\n",
       "      <th>MEDV</th>\n",
       "      <th>B</th>\n",
       "      <th>LSTAT</th>\n",
       "    </tr>\n",
       "  </thead>\n",
       "  <tbody>\n",
       "    <tr>\n",
       "      <th>0</th>\n",
       "      <td>0.00632</td>\n",
       "      <td>18.0</td>\n",
       "      <td>2.31</td>\n",
       "      <td>0.0</td>\n",
       "      <td>0.538</td>\n",
       "      <td>6.575</td>\n",
       "      <td>65.199997</td>\n",
       "      <td>4.0900</td>\n",
       "      <td>1.0</td>\n",
       "      <td>296.0</td>\n",
       "      <td>15.300000</td>\n",
       "      <td>396.899994</td>\n",
       "      <td>4.98</td>\n",
       "      <td>24.000000</td>\n",
       "    </tr>\n",
       "    <tr>\n",
       "      <th>1</th>\n",
       "      <td>0.02731</td>\n",
       "      <td>0.0</td>\n",
       "      <td>7.07</td>\n",
       "      <td>0.0</td>\n",
       "      <td>0.469</td>\n",
       "      <td>6.421</td>\n",
       "      <td>78.900002</td>\n",
       "      <td>4.9671</td>\n",
       "      <td>2.0</td>\n",
       "      <td>242.0</td>\n",
       "      <td>17.799999</td>\n",
       "      <td>396.899994</td>\n",
       "      <td>9.14</td>\n",
       "      <td>21.600000</td>\n",
       "    </tr>\n",
       "    <tr>\n",
       "      <th>2</th>\n",
       "      <td>0.02729</td>\n",
       "      <td>0.0</td>\n",
       "      <td>7.07</td>\n",
       "      <td>0.0</td>\n",
       "      <td>0.469</td>\n",
       "      <td>7.185</td>\n",
       "      <td>61.099998</td>\n",
       "      <td>4.9671</td>\n",
       "      <td>2.0</td>\n",
       "      <td>242.0</td>\n",
       "      <td>17.799999</td>\n",
       "      <td>392.829987</td>\n",
       "      <td>4.03</td>\n",
       "      <td>34.700001</td>\n",
       "    </tr>\n",
       "    <tr>\n",
       "      <th>3</th>\n",
       "      <td>0.03237</td>\n",
       "      <td>0.0</td>\n",
       "      <td>2.18</td>\n",
       "      <td>0.0</td>\n",
       "      <td>0.458</td>\n",
       "      <td>6.998</td>\n",
       "      <td>45.799999</td>\n",
       "      <td>6.0622</td>\n",
       "      <td>3.0</td>\n",
       "      <td>222.0</td>\n",
       "      <td>18.700001</td>\n",
       "      <td>394.630005</td>\n",
       "      <td>2.94</td>\n",
       "      <td>33.400002</td>\n",
       "    </tr>\n",
       "    <tr>\n",
       "      <th>4</th>\n",
       "      <td>0.06905</td>\n",
       "      <td>0.0</td>\n",
       "      <td>2.18</td>\n",
       "      <td>0.0</td>\n",
       "      <td>0.458</td>\n",
       "      <td>7.147</td>\n",
       "      <td>54.200001</td>\n",
       "      <td>6.0622</td>\n",
       "      <td>3.0</td>\n",
       "      <td>222.0</td>\n",
       "      <td>18.700001</td>\n",
       "      <td>396.899994</td>\n",
       "      <td>5.33</td>\n",
       "      <td>36.200001</td>\n",
       "    </tr>\n",
       "  </tbody>\n",
       "</table>\n",
       "</div>"
      ],
      "text/plain": [
       "      CRIM    ZN  INDUS  CHAS    NOX     RM        AGE     DIS  RAD    TAX  \\\n",
       "0  0.00632  18.0   2.31   0.0  0.538  6.575  65.199997  4.0900  1.0  296.0   \n",
       "1  0.02731   0.0   7.07   0.0  0.469  6.421  78.900002  4.9671  2.0  242.0   \n",
       "2  0.02729   0.0   7.07   0.0  0.469  7.185  61.099998  4.9671  2.0  242.0   \n",
       "3  0.03237   0.0   2.18   0.0  0.458  6.998  45.799999  6.0622  3.0  222.0   \n",
       "4  0.06905   0.0   2.18   0.0  0.458  7.147  54.200001  6.0622  3.0  222.0   \n",
       "\n",
       "     PTRATIO        MEDV     B      LSTAT  \n",
       "0  15.300000  396.899994  4.98  24.000000  \n",
       "1  17.799999  396.899994  9.14  21.600000  \n",
       "2  17.799999  392.829987  4.03  34.700001  \n",
       "3  18.700001  394.630005  2.94  33.400002  \n",
       "4  18.700001  396.899994  5.33  36.200001  "
      ]
     },
     "execution_count": 2,
     "metadata": {},
     "output_type": "execute_result"
    }
   ],
   "source": [
    "path = './'\n",
    "filename = 'housing.csv'\n",
    "colnames = ['CRIM','ZN','INDUS','CHAS','NOX', 'RM','AGE','DIS','RAD','TAX', 'PTRATIO','MEDV','B','LSTAT']\n",
    "response_col = 'MEDV'\n",
    "\n",
    "housing = pd.read_table(f'{path}{filename}', header=None) \n",
    "housing = pd.DataFrame(housing[0].str.split().to_list(), columns=colnames) \n",
    "housing = housing.astype('float32') \n",
    "housing.head() "
   ]
  },
  {
   "cell_type": "markdown",
   "id": "white-protocol",
   "metadata": {},
   "source": [
    "## EDA"
   ]
  },
  {
   "cell_type": "code",
   "execution_count": 5,
   "id": "collect-suggestion",
   "metadata": {},
   "outputs": [
    {
     "data": {
      "text/html": [
       "<div>\n",
       "<style scoped>\n",
       "    .dataframe tbody tr th:only-of-type {\n",
       "        vertical-align: middle;\n",
       "    }\n",
       "\n",
       "    .dataframe tbody tr th {\n",
       "        vertical-align: top;\n",
       "    }\n",
       "\n",
       "    .dataframe thead th {\n",
       "        text-align: right;\n",
       "    }\n",
       "</style>\n",
       "<table border=\"1\" class=\"dataframe\">\n",
       "  <thead>\n",
       "    <tr style=\"text-align: right;\">\n",
       "      <th></th>\n",
       "      <th>CRIM</th>\n",
       "      <th>ZN</th>\n",
       "      <th>INDUS</th>\n",
       "      <th>CHAS</th>\n",
       "      <th>NOX</th>\n",
       "      <th>RM</th>\n",
       "      <th>AGE</th>\n",
       "      <th>DIS</th>\n",
       "      <th>RAD</th>\n",
       "      <th>TAX</th>\n",
       "      <th>PTRATIO</th>\n",
       "      <th>MEDV</th>\n",
       "      <th>B</th>\n",
       "      <th>LSTAT</th>\n",
       "    </tr>\n",
       "  </thead>\n",
       "  <tbody>\n",
       "    <tr>\n",
       "      <th>count</th>\n",
       "      <td>506.000000</td>\n",
       "      <td>506.000000</td>\n",
       "      <td>506.000000</td>\n",
       "      <td>506.000000</td>\n",
       "      <td>506.000000</td>\n",
       "      <td>506.000000</td>\n",
       "      <td>506.000000</td>\n",
       "      <td>506.000000</td>\n",
       "      <td>506.000000</td>\n",
       "      <td>506.000000</td>\n",
       "      <td>506.000000</td>\n",
       "      <td>506.000000</td>\n",
       "      <td>506.000000</td>\n",
       "      <td>506.000000</td>\n",
       "    </tr>\n",
       "    <tr>\n",
       "      <th>mean</th>\n",
       "      <td>3.613524</td>\n",
       "      <td>11.363636</td>\n",
       "      <td>11.136780</td>\n",
       "      <td>0.069170</td>\n",
       "      <td>0.554695</td>\n",
       "      <td>6.284634</td>\n",
       "      <td>68.574898</td>\n",
       "      <td>3.795043</td>\n",
       "      <td>9.549407</td>\n",
       "      <td>408.237152</td>\n",
       "      <td>18.455534</td>\n",
       "      <td>356.674042</td>\n",
       "      <td>12.653064</td>\n",
       "      <td>22.532806</td>\n",
       "    </tr>\n",
       "    <tr>\n",
       "      <th>std</th>\n",
       "      <td>8.601545</td>\n",
       "      <td>23.322453</td>\n",
       "      <td>6.860353</td>\n",
       "      <td>0.253994</td>\n",
       "      <td>0.115878</td>\n",
       "      <td>0.702617</td>\n",
       "      <td>28.148861</td>\n",
       "      <td>2.105710</td>\n",
       "      <td>8.707259</td>\n",
       "      <td>168.537109</td>\n",
       "      <td>2.164946</td>\n",
       "      <td>91.294861</td>\n",
       "      <td>7.141061</td>\n",
       "      <td>9.197104</td>\n",
       "    </tr>\n",
       "    <tr>\n",
       "      <th>min</th>\n",
       "      <td>0.006320</td>\n",
       "      <td>0.000000</td>\n",
       "      <td>0.460000</td>\n",
       "      <td>0.000000</td>\n",
       "      <td>0.385000</td>\n",
       "      <td>3.561000</td>\n",
       "      <td>2.900000</td>\n",
       "      <td>1.129600</td>\n",
       "      <td>1.000000</td>\n",
       "      <td>187.000000</td>\n",
       "      <td>12.600000</td>\n",
       "      <td>0.320000</td>\n",
       "      <td>1.730000</td>\n",
       "      <td>5.000000</td>\n",
       "    </tr>\n",
       "    <tr>\n",
       "      <th>25%</th>\n",
       "      <td>0.082045</td>\n",
       "      <td>0.000000</td>\n",
       "      <td>5.190000</td>\n",
       "      <td>0.000000</td>\n",
       "      <td>0.449000</td>\n",
       "      <td>5.885500</td>\n",
       "      <td>45.025000</td>\n",
       "      <td>2.100175</td>\n",
       "      <td>4.000000</td>\n",
       "      <td>279.000000</td>\n",
       "      <td>17.400000</td>\n",
       "      <td>375.377487</td>\n",
       "      <td>6.950000</td>\n",
       "      <td>17.025000</td>\n",
       "    </tr>\n",
       "    <tr>\n",
       "      <th>50%</th>\n",
       "      <td>0.256510</td>\n",
       "      <td>0.000000</td>\n",
       "      <td>9.690000</td>\n",
       "      <td>0.000000</td>\n",
       "      <td>0.538000</td>\n",
       "      <td>6.208500</td>\n",
       "      <td>77.500000</td>\n",
       "      <td>3.207450</td>\n",
       "      <td>5.000000</td>\n",
       "      <td>330.000000</td>\n",
       "      <td>19.050000</td>\n",
       "      <td>391.440002</td>\n",
       "      <td>11.360000</td>\n",
       "      <td>21.200001</td>\n",
       "    </tr>\n",
       "    <tr>\n",
       "      <th>75%</th>\n",
       "      <td>3.677083</td>\n",
       "      <td>12.500000</td>\n",
       "      <td>18.100000</td>\n",
       "      <td>0.000000</td>\n",
       "      <td>0.624000</td>\n",
       "      <td>6.623500</td>\n",
       "      <td>94.074999</td>\n",
       "      <td>5.188425</td>\n",
       "      <td>24.000000</td>\n",
       "      <td>666.000000</td>\n",
       "      <td>20.200001</td>\n",
       "      <td>396.225006</td>\n",
       "      <td>16.954999</td>\n",
       "      <td>25.000000</td>\n",
       "    </tr>\n",
       "    <tr>\n",
       "      <th>max</th>\n",
       "      <td>88.976196</td>\n",
       "      <td>100.000000</td>\n",
       "      <td>27.740000</td>\n",
       "      <td>1.000000</td>\n",
       "      <td>0.871000</td>\n",
       "      <td>8.780000</td>\n",
       "      <td>100.000000</td>\n",
       "      <td>12.126500</td>\n",
       "      <td>24.000000</td>\n",
       "      <td>711.000000</td>\n",
       "      <td>22.000000</td>\n",
       "      <td>396.899994</td>\n",
       "      <td>37.970001</td>\n",
       "      <td>50.000000</td>\n",
       "    </tr>\n",
       "  </tbody>\n",
       "</table>\n",
       "</div>"
      ],
      "text/plain": [
       "             CRIM          ZN       INDUS        CHAS         NOX          RM  \\\n",
       "count  506.000000  506.000000  506.000000  506.000000  506.000000  506.000000   \n",
       "mean     3.613524   11.363636   11.136780    0.069170    0.554695    6.284634   \n",
       "std      8.601545   23.322453    6.860353    0.253994    0.115878    0.702617   \n",
       "min      0.006320    0.000000    0.460000    0.000000    0.385000    3.561000   \n",
       "25%      0.082045    0.000000    5.190000    0.000000    0.449000    5.885500   \n",
       "50%      0.256510    0.000000    9.690000    0.000000    0.538000    6.208500   \n",
       "75%      3.677083   12.500000   18.100000    0.000000    0.624000    6.623500   \n",
       "max     88.976196  100.000000   27.740000    1.000000    0.871000    8.780000   \n",
       "\n",
       "              AGE         DIS         RAD         TAX     PTRATIO        MEDV  \\\n",
       "count  506.000000  506.000000  506.000000  506.000000  506.000000  506.000000   \n",
       "mean    68.574898    3.795043    9.549407  408.237152   18.455534  356.674042   \n",
       "std     28.148861    2.105710    8.707259  168.537109    2.164946   91.294861   \n",
       "min      2.900000    1.129600    1.000000  187.000000   12.600000    0.320000   \n",
       "25%     45.025000    2.100175    4.000000  279.000000   17.400000  375.377487   \n",
       "50%     77.500000    3.207450    5.000000  330.000000   19.050000  391.440002   \n",
       "75%     94.074999    5.188425   24.000000  666.000000   20.200001  396.225006   \n",
       "max    100.000000   12.126500   24.000000  711.000000   22.000000  396.899994   \n",
       "\n",
       "                B       LSTAT  \n",
       "count  506.000000  506.000000  \n",
       "mean    12.653064   22.532806  \n",
       "std      7.141061    9.197104  \n",
       "min      1.730000    5.000000  \n",
       "25%      6.950000   17.025000  \n",
       "50%     11.360000   21.200001  \n",
       "75%     16.954999   25.000000  \n",
       "max     37.970001   50.000000  "
      ]
     },
     "execution_count": 5,
     "metadata": {},
     "output_type": "execute_result"
    }
   ],
   "source": [
    "housing.describe()"
   ]
  },
  {
   "cell_type": "code",
   "execution_count": 4,
   "id": "abroad-reminder",
   "metadata": {},
   "outputs": [],
   "source": [
    "stats = tfdv.generate_statistics_from_dataframe(dataframe=housing)"
   ]
  },
  {
   "cell_type": "code",
   "execution_count": 7,
   "id": "excessive-drinking",
   "metadata": {},
   "outputs": [
    {
     "data": {
      "text/html": [
       "<iframe id='facets-iframe' width=\"100%\" height=\"500px\"></iframe>\n",
       "        <script>\n",
       "        facets_iframe = document.getElementById('facets-iframe');\n",
       "        facets_html = '<script src=\"https://cdnjs.cloudflare.com/ajax/libs/webcomponentsjs/1.3.3/webcomponents-lite.js\"><\\/script><link rel=\"import\" href=\"https://raw.githubusercontent.com/PAIR-code/facets/master/facets-dist/facets-jupyter.html\"><facets-overview proto-input=\"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\"></facets-overview>';\n",
       "        facets_iframe.srcdoc = facets_html;\n",
       "         facets_iframe.id = \"\";\n",
       "         setTimeout(() => {\n",
       "           facets_iframe.setAttribute('height', facets_iframe.contentWindow.document.body.offsetHeight + 'px')\n",
       "         }, 1500)\n",
       "         </script>"
      ],
      "text/plain": [
       "<IPython.core.display.HTML object>"
      ]
     },
     "metadata": {},
     "output_type": "display_data"
    }
   ],
   "source": [
    "tfdv.visualize_statistics(stats)"
   ]
  },
  {
   "cell_type": "markdown",
   "id": "embedded-anniversary",
   "metadata": {},
   "source": [
    "## Split dataset"
   ]
  },
  {
   "cell_type": "code",
   "execution_count": 3,
   "id": "imposed-yeast",
   "metadata": {},
   "outputs": [],
   "source": [
    "ds_size = len(housing)\n",
    "train_ratio = 0.90\n",
    "train_size = int(ds_size*train_ratio)\n",
    "\n",
    "ds = tf.data.Dataset.from_tensor_slices((\n",
    "    housing[[col for col in housing.columns if col != response_col]].values, \n",
    "    housing[response_col].values))\n",
    "\n",
    "tf.random.set_seed(49)\n",
    "shuffled_ds = ds.shuffle(ds_size, reshuffle_each_iteration=False)\n",
    "train_ds = shuffled_ds.take(train_size)\n",
    "test_ds = shuffled_ds.skip(train_size)"
   ]
  },
  {
   "cell_type": "code",
   "execution_count": 4,
   "id": "ahead-extraction",
   "metadata": {},
   "outputs": [
    {
     "name": "stdout",
     "output_type": "stream",
     "text": [
      "(array([  0.53412,  20.     ,   3.97   ,   0.     ,   0.647  ,   7.52   ,\n",
      "        89.4    ,   2.1398 ,   5.     , 264.     ,  13.     ,   7.26   ,\n",
      "        43.1    ], dtype=float32), 388.37)\n",
      "(array([  2.73397,   0.     ,  19.58   ,   0.     ,   0.871  ,   5.597  ,\n",
      "        94.9    ,   1.5257 ,   5.     , 403.     ,  14.7    ,  21.45   ,\n",
      "        15.4    ], dtype=float32), 351.85)\n",
      "(array([  0.35809,   0.     ,   6.2    ,   1.     ,   0.507  ,   6.951  ,\n",
      "        88.5    ,   2.8617 ,   8.     , 307.     ,  17.4    ,   9.71   ,\n",
      "        26.7    ], dtype=float32), 391.7)\n"
     ]
    }
   ],
   "source": [
    "for i in test_ds.take(3):\n",
    "    print((i[0].numpy(), i[1].numpy()))"
   ]
  },
  {
   "cell_type": "code",
   "execution_count": 5,
   "id": "chronic-referral",
   "metadata": {},
   "outputs": [
    {
     "name": "stdout",
     "output_type": "stream",
     "text": [
      "Training data : 456\n",
      "Test data : 50\n"
     ]
    }
   ],
   "source": [
    "print(f'Training data : {len(train_ds)}')\n",
    "print(f'Test data : {len(test_ds)}')"
   ]
  },
  {
   "cell_type": "markdown",
   "id": "hindu-ontario",
   "metadata": {},
   "source": [
    "## Preprocessing"
   ]
  },
  {
   "cell_type": "code",
   "execution_count": 44,
   "id": "promotional-student",
   "metadata": {},
   "outputs": [],
   "source": [
    "def preprocess(ds):\n",
    "    inputs = ds.copy()\n",
    "    for col in inputs.columns:\n",
    "        \"\"\"Preprocess input columns into transformed columns.\"\"\"\n",
    "        if inputs[col].dtype == 'object':\n",
    "            inputs[col] = tft.compute_and_apply_vocabulary(inputs[col])\n",
    "        else:\n",
    "            inputs[col] = tft.mean(inputs[col].values) * tft.scale_to_0_1(inputs[col].values)\n",
    "    return inputs"
   ]
  },
  {
   "cell_type": "code",
   "execution_count": null,
   "id": "stable-perth",
   "metadata": {},
   "outputs": [],
   "source": [
    "df_preprocessed = preprocess(housing)\n",
    "df_preprocessed"
   ]
  },
  {
   "cell_type": "markdown",
   "id": "logical-tyler",
   "metadata": {},
   "source": [
    "## Neural Network"
   ]
  },
  {
   "cell_type": "code",
   "execution_count": 18,
   "id": "improved-ferry",
   "metadata": {},
   "outputs": [],
   "source": [
    "def build_model(x_train, y_train, x_val, y_val, params):\n",
    "    model = keras.Sequential()\n",
    "    \n",
    "    for i in range(params['hidden_layers']):\n",
    "        model.add(BatchNormalization(input_shape=x_train.shape[1:]))\n",
    "        model.add(Dense(params['first_neuron'], input_dim=(len(colnames) - 1),\n",
    "                        activation=params['activation'],\n",
    "                        kernel_initializer='normal'))\n",
    "\n",
    "        model.add(Dropout(params['dropout']))\n",
    "   \n",
    "    # then we finish again with completely standard Keras way\n",
    "    model.add(Dense(1, activation=params['last_activation'],\n",
    "                    kernel_initializer='normal'))\n",
    "    \n",
    "  \n",
    "    model.compile(loss=params['losses'],\n",
    "                  optimizer=params['optimizer'](),\n",
    "                  # here we add a regulizer normalization function from Talos\n",
    "#                   optimizer=params['optimizer'](lr=lr_normalizer(params['lr'],params['optimizer'])),\n",
    "                  metrics=tf.keras.metrics.RootMeanSquaredError)\n",
    "\n",
    "    out = model.fit(x_train,\n",
    "                    y_train,\n",
    "                    batch_size=params['batch_size'],\n",
    "                    epochs=params['epochs'],\n",
    "                    validation_data=(x_val, y_val),\n",
    "                    callbacks=[ta.utils.early_stopper(params['epochs'])],\n",
    "                    workers=4,\n",
    "                    verbose=0)\n",
    "\n",
    "    # finally we have to make sure that history object and model are returned\n",
    "    return out, model"
   ]
  },
  {
   "cell_type": "code",
   "execution_count": 7,
   "id": "commercial-jungle",
   "metadata": {},
   "outputs": [],
   "source": [
    "train_data = np.array([list(x[0].numpy()) for x in list(train_ds)])\n",
    "train_targets = np.array([x[1].numpy() for x in list(train_ds)])\n",
    "\n",
    "test_data = np.array([list(x[0].numpy()) for x in list(test_ds)])\n",
    "test_targets = np.array([x[1].numpy() for x in list(test_ds)])"
   ]
  },
  {
   "cell_type": "markdown",
   "id": "demographic-style",
   "metadata": {},
   "source": [
    "## Hyperparameter tuning"
   ]
  },
  {
   "cell_type": "code",
   "execution_count": 21,
   "id": "handy-arabic",
   "metadata": {},
   "outputs": [],
   "source": [
    "p = {'lr': (0.5, 5, 10),\n",
    "     'first_neuron':[4, 8, 16, 32, 64],\n",
    "     'hidden_layers':[1, 2, 3],\n",
    "     'batch_size': (2, 30, 10),\n",
    "     'epochs': [10, 15, 25],\n",
    "     'dropout': (0, 0.5, 5),\n",
    "     'weight_regulizer':[None],\n",
    "     'emb_output_dims': [None],\n",
    "#      'shapes':['brick','long_funnel'],\n",
    "     'optimizer': [keras.optimizers.Adam, keras.optimizers.Nadam, keras.optimizers.RMSprop],\n",
    "     'losses': [keras.losses.logcosh, keras.losses.mean_squared_error],\n",
    "     'activation':[keras.activations.relu, keras.activations.elu],\n",
    "     'last_activation': [keras.activations.sigmoid, keras.activations.softmax]}"
   ]
  },
  {
   "cell_type": "code",
   "execution_count": null,
   "id": "continuing-trademark",
   "metadata": {},
   "outputs": [
    {
     "name": "stdout",
     "output_type": "stream",
     "text": [
      "WARNING:tensorflow:5 out of the last 160 calls to <function Model.make_test_function.<locals>.test_function at 0x7f3392e8c3b0> triggered tf.function retracing. Tracing is expensive and the excessive number of tracings could be due to (1) creating @tf.function repeatedly in a loop, (2) passing tensors with different shapes, (3) passing Python objects instead of tensors. For (1), please define your @tf.function outside of the loop. For (2), @tf.function has experimental_relax_shapes=True option that relaxes argument shapes that can avoid unnecessary retracing. For (3), please refer to https://www.tensorflow.org/guide/function#controlling_retracing and https://www.tensorflow.org/api_docs/python/tf/function for  more details.\n",
      "WARNING:tensorflow:5 out of the last 14 calls to <function Model.make_test_function.<locals>.test_function at 0x7f339138fb90> triggered tf.function retracing. Tracing is expensive and the excessive number of tracings could be due to (1) creating @tf.function repeatedly in a loop, (2) passing tensors with different shapes, (3) passing Python objects instead of tensors. For (1), please define your @tf.function outside of the loop. For (2), @tf.function has experimental_relax_shapes=True option that relaxes argument shapes that can avoid unnecessary retracing. For (3), please refer to https://www.tensorflow.org/guide/function#controlling_retracing and https://www.tensorflow.org/api_docs/python/tf/function for  more details.\n",
      "WARNING:tensorflow:5 out of the last 88 calls to <function Model.make_test_function.<locals>.test_function at 0x7f3392b00c20> triggered tf.function retracing. Tracing is expensive and the excessive number of tracings could be due to (1) creating @tf.function repeatedly in a loop, (2) passing tensors with different shapes, (3) passing Python objects instead of tensors. For (1), please define your @tf.function outside of the loop. For (2), @tf.function has experimental_relax_shapes=True option that relaxes argument shapes that can avoid unnecessary retracing. For (3), please refer to https://www.tensorflow.org/guide/function#controlling_retracing and https://www.tensorflow.org/api_docs/python/tf/function for  more details.\n"
     ]
    }
   ],
   "source": [
    "t = ta.Scan(x=train_data,\n",
    "            y=train_targets,\n",
    "            x_val=test_data,\n",
    "            y_val=test_targets,\n",
    "            model=build_model,\n",
    "            fraction_limit=0.01, \n",
    "            params=p,\n",
    "            experiment_name='exp',\n",
    "            disable_progress_bar=True)"
   ]
  },
  {
   "cell_type": "code",
   "execution_count": null,
   "id": "comprehensive-action",
   "metadata": {},
   "outputs": [],
   "source": [
    "t.best_model(metric='mse', asc=False)"
   ]
  },
  {
   "cell_type": "code",
   "execution_count": null,
   "id": "electric-copyright",
   "metadata": {},
   "outputs": [],
   "source": [
    "t.data.columns"
   ]
  },
  {
   "cell_type": "code",
   "execution_count": null,
   "id": "chemical-credit",
   "metadata": {},
   "outputs": [],
   "source": [
    "min(t.data['mse'])"
   ]
  },
  {
   "cell_type": "code",
   "execution_count": null,
   "id": "devoted-india",
   "metadata": {},
   "outputs": [],
   "source": [
    "model_id = t.data['mse'].astype('float').argmax() - 1\n",
    "# Clear any previous TensorFlow session.\n",
    "tf.keras.backend.clear_session()\n",
    "\n",
    "# Load the model parameters from the scanner.\n",
    "from tensorflow.keras.models import model_from_json\n",
    "model = model_from_json(t.saved_models[model_id])\n",
    "model.set_weights(t.saved_weights[model_id])\n",
    "model.summary()\n",
    "model.save('best_model.h5')"
   ]
  },
  {
   "cell_type": "code",
   "execution_count": null,
   "id": "found-people",
   "metadata": {},
   "outputs": [],
   "source": [
    "r = Analyze('experiment_log.csv')\n",
    "r.data\n",
    "\n",
    "# returns the highest value for 'val_fmeasure'\n",
    "r.low('val_mse')\n",
    "\n",
    "# draws a histogram for 'val_acc'\n",
    "r.plot_hist()\n",
    "\n",
    "r.best_params"
   ]
  },
  {
   "cell_type": "code",
   "execution_count": null,
   "id": "coated-sight",
   "metadata": {},
   "outputs": [],
   "source": [
    "t.evaluate_models(\n",
    "            x_val=test_data,\n",
    "            y_val=test_targets,\n",
    "            n_models=10,\n",
    "            metric='mse',\n",
    "            folds=5,\n",
    "            shuffle=True,\n",
    "            average='binary',\n",
    "            asc=False)"
   ]
  }
 ],
 "metadata": {
  "kernelspec": {
   "display_name": "Python [conda env:deeplearning]",
   "language": "python",
   "name": "conda-env-deeplearning-py"
  },
  "language_info": {
   "codemirror_mode": {
    "name": "ipython",
    "version": 3
   },
   "file_extension": ".py",
   "mimetype": "text/x-python",
   "name": "python",
   "nbconvert_exporter": "python",
   "pygments_lexer": "ipython3",
   "version": "3.7.9"
  }
 },
 "nbformat": 4,
 "nbformat_minor": 5
}
